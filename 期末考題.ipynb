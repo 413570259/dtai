{
 "cells": [
  {
   "cell_type": "code",
   "execution_count": 1,
   "metadata": {},
   "outputs": [
    {
     "name": "stdout",
     "output_type": "stream",
     "text": [
      "期末考題\n"
     ]
    }
   ],
   "source": [
    "print(\"期末考題\")"
   ]
  },
  {
   "cell_type": "code",
   "execution_count": null,
   "metadata": {},
   "outputs": [],
   "source": [
    "#panda_5"
   ]
  },
  {
   "cell_type": "code",
   "execution_count": null,
   "metadata": {},
   "outputs": [],
   "source": [
    "#panda_8"
   ]
  },
  {
   "cell_type": "code",
   "execution_count": null,
   "metadata": {},
   "outputs": [],
   "source": [
    "#panda_9"
   ]
  },
  {
   "cell_type": "code",
   "execution_count": null,
   "metadata": {},
   "outputs": [],
   "source": [
    "#panda_10"
   ]
  },
  {
   "cell_type": "code",
   "execution_count": null,
   "metadata": {},
   "outputs": [],
   "source": [
    "#panda_14 判斷是否構成三角形\n",
    "\n",
    "# 讀取使用者輸入的三個整數\n",
    "a, b, c = map(int, input().split())\n",
    "\n",
    "# 判斷是否構成三角形\n",
    "if a + b > c and a + c > b and b + c > a:\n",
    "    print(\"Valid\")\n",
    "else:\n",
    "    print(\"Invalid\")"
   ]
  },
  {
   "cell_type": "code",
   "execution_count": null,
   "metadata": {},
   "outputs": [],
   "source": [
    "#panda_18"
   ]
  },
  {
   "cell_type": "code",
   "execution_count": null,
   "metadata": {},
   "outputs": [],
   "source": [
    "#panda_19"
   ]
  },
  {
   "cell_type": "code",
   "execution_count": null,
   "metadata": {},
   "outputs": [],
   "source": [
    "#panda_21"
   ]
  },
  {
   "cell_type": "code",
   "execution_count": null,
   "metadata": {},
   "outputs": [],
   "source": [
    "#panda_22"
   ]
  },
  {
   "cell_type": "code",
   "execution_count": null,
   "metadata": {},
   "outputs": [],
   "source": [
    "#panda_23"
   ]
  },
  {
   "cell_type": "code",
   "execution_count": null,
   "metadata": {},
   "outputs": [],
   "source": [
    "#panda_26 成績等第判斷\n",
    "X = int(input())\n",
    "\n",
    "if X >=90 and X <=100:\n",
    "    print(f'{X}'\" is A\")\n",
    "elif X >=80 and X <=89:\n",
    "    print(f'{X}'\" is B\") \n",
    "elif X >=70 and X <=79:\n",
    "    print(f'{X}'\" is C\")\n",
    "elif X >=60 and X <=69:\n",
    "    print(f'{X}'\" is D\")\n",
    "elif X <60 and X >=0 :\n",
    "    print(f'{X}'\" is E\")    \n",
    "else:\n",
    "    print(f'{X}'\" is error\")   \n"
   ]
  },
  {
   "cell_type": "code",
   "execution_count": null,
   "metadata": {},
   "outputs": [],
   "source": [
    "#panda_29 百貨公司週年慶\n",
    "\n",
    "X = int(input())\n",
    "\n",
    "if X >=100000:\n",
    "    X *=0.8\n",
    "    print(\"80% discount is \"f'{X}')\n",
    "elif X >=50000 and X <100000:\n",
    "    X *=0.85\n",
    "    print(\"85% discount is \"f'{X}') \n",
    "elif X >=30000 and X <50000:\n",
    "    X *=0.9\n",
    "    print(\"90% discount is \"f'{X}')\n",
    "elif X >=10000 and X <30000:\n",
    "    X *=0.95\n",
    "    print(\"95% discount is \"f'{X}') \n",
    "else:\n",
    "    print(\"no discount is \"f'{X}')  "
   ]
  },
  {
   "cell_type": "code",
   "execution_count": null,
   "metadata": {},
   "outputs": [],
   "source": [
    "#panda_30"
   ]
  },
  {
   "cell_type": "code",
   "execution_count": null,
   "metadata": {},
   "outputs": [],
   "source": [
    "#panda_32"
   ]
  },
  {
   "cell_type": "code",
   "execution_count": null,
   "metadata": {},
   "outputs": [],
   "source": [
    "#panda_33 判斷是否為等腰三角形\n",
    "\n",
    "a, b, c = map(int, input().split())\n",
    "\n",
    "if a == b == c or a == b or a == c or b == c:\n",
    "    print(\"Valid\")\n",
    "else:\n",
    "    print(\"Invalid\")"
   ]
  },
  {
   "cell_type": "code",
   "execution_count": null,
   "metadata": {},
   "outputs": [],
   "source": [
    "#panda_34 停車費計算\n",
    "\n",
    "# 使用者輸入停車的分鐘數\n",
    "minutes = int(input())\n",
    "\n",
    "# 計算小時和分鐘\n",
    "hours = minutes // 60\n",
    "remaining_minutes = minutes % 60\n",
    "\n",
    "# 計算費用\n",
    "if remaining_minutes > 0:\n",
    "    fee = hours * 40 + 20\n",
    "else:\n",
    "    fee = hours * 40\n",
    "\n",
    "# 當日費用上限300元\n",
    "if fee > 300:\n",
    "   fee = 300\n",
    "\n",
    "# 輸出結果\n",
    "print(\"park time:\"f'{hours}'\"h:\"f'{remaining_minutes}'\"m\")\n",
    "print(\"pay:\"f'{fee}'\" money\")"
   ]
  },
  {
   "cell_type": "code",
   "execution_count": null,
   "metadata": {},
   "outputs": [],
   "source": [
    "#panda_35 利用for迴圈來尋找水仙花數 XXXXXXXXXXXXXXXXXXXXXXXXXXXXXXX\n",
    "\n",
    "# 讀取使用者輸入的起始值和終止值\n",
    "start, end = map(int, input().split())\n",
    "\n",
    "# 初始化結果列表\n",
    "narcissistic_numbers = []\n",
    "\n",
    "# 遍歷範圍內的所有三位數\n",
    "for number in range(start, end + 1):\n",
    "    if 100 <= number <= 999:  # 確保只處理三位數\n",
    "        # 提取個位、十位和百位數字\n",
    "        units = number % 10\n",
    "        tens = (number // 10) % 10\n",
    "        hundreds = number // 100\n",
    "\n",
    "        # 計算立方和\n",
    "        sum_of_cubes = units**3 + tens**3 + hundreds**3\n",
    "\n",
    "        # 判斷是否為水仙花數\n",
    "        if sum_of_cubes == number:\n",
    "            narcissistic_numbers.append(number)\n",
    "\n",
    "# 印出結果，以逗號分隔\n",
    "print(','.join(map(str, narcissistic_numbers)) + ',')"
   ]
  },
  {
   "cell_type": "code",
   "execution_count": null,
   "metadata": {},
   "outputs": [],
   "source": [
    "#panda_40 計算梯形面積並格式化輸出\n",
    "\n",
    "t = float(input())\n",
    "b = float(input())\n",
    "h = float(input())\n",
    "area = (t + b) * h / 2\n",
    "\n",
    "print(\"t=\"f'{t}',\"b=\"f'{b}',\"h=\"f'{h}',\"area=\"f'{area}')"
   ]
  },
  {
   "cell_type": "code",
   "execution_count": null,
   "metadata": {},
   "outputs": [],
   "source": [
    "#panda_41 計算除法餘數"
   ]
  },
  {
   "cell_type": "code",
   "execution_count": null,
   "metadata": {},
   "outputs": [],
   "source": [
    "#panda_43 計算除法餘數"
   ]
  }
 ],
 "metadata": {
  "kernelspec": {
   "display_name": "Python 3",
   "language": "python",
   "name": "python3"
  },
  "language_info": {
   "codemirror_mode": {
    "name": "ipython",
    "version": 3
   },
   "file_extension": ".py",
   "mimetype": "text/x-python",
   "name": "python",
   "nbconvert_exporter": "python",
   "pygments_lexer": "ipython3",
   "version": "3.12.4"
  }
 },
 "nbformat": 4,
 "nbformat_minor": 2
}
