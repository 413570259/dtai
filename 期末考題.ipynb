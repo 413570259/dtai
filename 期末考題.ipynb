{
 "cells": [
  {
   "cell_type": "code",
   "execution_count": 1,
   "metadata": {},
   "outputs": [
    {
     "name": "stdout",
     "output_type": "stream",
     "text": [
      "期末考題\n"
     ]
    }
   ],
   "source": [
    "print(\"期末考題\")"
   ]
  },
  {
   "cell_type": "code",
   "execution_count": 3,
   "metadata": {},
   "outputs": [
    {
     "name": "stdout",
     "output_type": "stream",
     "text": [
      "10\n"
     ]
    }
   ],
   "source": [
    "#panda_5 找出3個數的最小值\n",
    "\n",
    "a,b,c = map(int,input().split())\n",
    "\n",
    "min = a\n",
    "if b <= min:\n",
    "    min = b\n",
    "elif c <= min:\n",
    "    min = c\n",
    "print(min)    "
   ]
  },
  {
   "cell_type": "code",
   "execution_count": 5,
   "metadata": {},
   "outputs": [
    {
     "name": "stdout",
     "output_type": "stream",
     "text": [
      "84\n"
     ]
    }
   ],
   "source": [
    "#panda_8 計算3或7的倍數總和\n",
    "\n",
    "n = int(input())\n",
    "\n",
    "total = 0\n",
    "for i in range(1, n + 1):\n",
    "    if i % 3 == 0 or i % 7 == 0:\n",
    "        total += i\n",
    "print(total)\n"
   ]
  },
  {
   "cell_type": "code",
   "execution_count": 6,
   "metadata": {},
   "outputs": [
    {
     "name": "stdout",
     "output_type": "stream",
     "text": [
      "*\n",
      "**\n",
      "***\n",
      "****\n",
      "*****\n"
     ]
    }
   ],
   "source": [
    "#panda_9 用＊印出靠左下的直角三角形\n",
    "\n",
    "n = int(input())\n",
    "for i in range(1, n + 1):\n",
    "    for j in range(1, i + 1):\n",
    "        print('*',  end=\"\")\n",
    "    print()    "
   ]
  },
  {
   "cell_type": "code",
   "execution_count": 1,
   "metadata": {},
   "outputs": [
    {
     "name": "stdout",
     "output_type": "stream",
     "text": [
      "1\n",
      "12\n",
      "123\n",
      "1234\n",
      "12345\n"
     ]
    }
   ],
   "source": [
    "#panda_10 用連續數字印出靠左下的直角三角形  \n",
    "\n",
    "# 輸入整數 n\n",
    "n = int(input())\n",
    "\n",
    "# 輸出直角三角形\n",
    "for i in range(1, n + 1):\n",
    "    line = \"\"\n",
    "    for num in range(1, i + 1):\n",
    "        line += str(num)\n",
    "    print(line)    "
   ]
  },
  {
   "cell_type": "code",
   "execution_count": 2,
   "metadata": {},
   "outputs": [
    {
     "name": "stdout",
     "output_type": "stream",
     "text": [
      "Valid\n"
     ]
    }
   ],
   "source": [
    "#panda_14 判斷是否構成三角形\n",
    "\n",
    "# 讀取使用者輸入的三個整數\n",
    "a, b, c = map(int, input().split())\n",
    "\n",
    "# 判斷是否構成三角形\n",
    "if a + b > c and a + c > b and b + c > a:\n",
    "    print(\"Valid\")\n",
    "else:\n",
    "    print(\"Invalid\")"
   ]
  },
  {
   "cell_type": "code",
   "execution_count": 5,
   "metadata": {},
   "outputs": [
    {
     "name": "stdout",
     "output_type": "stream",
     "text": [
      "2020 is leap year\n"
     ]
    }
   ],
   "source": [
    "#panda_18 判斷平年、閏年\n",
    "\n",
    "n = int(input())\n",
    "\n",
    "# 判斷是否構成三角形\n",
    "if n % 4 == 0 and n % 100 != 0 :\n",
    "    print(n,\"is leap year\")\n",
    "elif n % 100 == 0 and n % 400 == 0 :\n",
    "    print(n,\"is leap year\")    \n",
    "else:\n",
    "    print(n,\"is common year\")"
   ]
  },
  {
   "cell_type": "code",
   "execution_count": 9,
   "metadata": {},
   "outputs": [
    {
     "name": "stdout",
     "output_type": "stream",
     "text": [
      "7*1=7 7*2=14 7*3=21 7*4=28 7*5=35 7*6=42 7*7=49 7*8=56 7*9=63 \n",
      "8*1=8 8*2=16 8*3=24 8*4=32 8*5=40 8*6=48 8*7=56 8*8=64 8*9=72 \n",
      "9*1=9 9*2=18 9*3=27 9*4=36 9*5=45 9*6=54 9*7=63 9*8=72 9*9=81 \n"
     ]
    }
   ],
   "source": [
    "#panda_19 印出乘法表\n",
    "\n",
    "n = int(input())\n",
    "\n",
    "for j in range(n, 10):  \n",
    "    for i in range(1, 10):  \n",
    "        print(\"%d*%d=%d\" % (j, i, j * i), end=\" \")\n",
    "    print()"
   ]
  },
  {
   "cell_type": "code",
   "execution_count": 12,
   "metadata": {},
   "outputs": [
    {
     "name": "stdout",
     "output_type": "stream",
     "text": [
      "Ans Hello World\n"
     ]
    }
   ],
   "source": [
    "#panda_21 Print字串\n",
    "\n",
    "n = str(input())\n",
    "\n",
    "a = \"Ans \" + n\n",
    "print(a)"
   ]
  },
  {
   "cell_type": "code",
   "execution_count": 13,
   "metadata": {},
   "outputs": [
    {
     "name": "stdout",
     "output_type": "stream",
     "text": [
      "21\n"
     ]
    }
   ],
   "source": [
    "#panda_22 學號總和\n",
    "\n",
    "a,b,c,d,e,f,g,h,i = map(int,input().split())\n",
    "\n",
    "sum = a + b + c + d + e + f + g + h + i\n",
    "\n",
    "print(sum)"
   ]
  },
  {
   "cell_type": "code",
   "execution_count": 14,
   "metadata": {},
   "outputs": [
    {
     "name": "stdout",
     "output_type": "stream",
     "text": [
      "17\n"
     ]
    }
   ],
   "source": [
    "#panda_23 取得字串長度\n",
    "\n",
    "n = str(input())\n",
    "\n",
    "print(len(n))"
   ]
  },
  {
   "cell_type": "code",
   "execution_count": 15,
   "metadata": {},
   "outputs": [
    {
     "name": "stdout",
     "output_type": "stream",
     "text": [
      "90 is A\n"
     ]
    }
   ],
   "source": [
    "#panda_26 成績等第判斷\n",
    "\n",
    "X = int(input())\n",
    "\n",
    "if X >=90 and X <=100:\n",
    "    print(f'{X}'\" is A\")\n",
    "elif X >=80 and X <=89:\n",
    "    print(f'{X}'\" is B\") \n",
    "elif X >=70 and X <=79:\n",
    "    print(f'{X}'\" is C\")\n",
    "elif X >=60 and X <=69:\n",
    "    print(f'{X}'\" is D\")\n",
    "elif X <60 and X >=0 :\n",
    "    print(f'{X}'\" is E\")    \n",
    "else:\n",
    "    print(f'{X}'\" is error\")   \n"
   ]
  },
  {
   "cell_type": "code",
   "execution_count": null,
   "metadata": {},
   "outputs": [],
   "source": [
    "#panda_29 百貨公司週年慶\n",
    "\n",
    "X = int(input())\n",
    "\n",
    "if X >=100000:\n",
    "    X *=0.8\n",
    "    print(\"80% discount is \"f'{X}')\n",
    "elif X >=50000 and X <100000:\n",
    "    X *=0.85\n",
    "    print(\"85% discount is \"f'{X}') \n",
    "elif X >=30000 and X <50000:\n",
    "    X *=0.9\n",
    "    print(\"90% discount is \"f'{X}')\n",
    "elif X >=10000 and X <30000:\n",
    "    X *=0.95\n",
    "    print(\"95% discount is \"f'{X}') \n",
    "else:\n",
    "    print(\"no discount is \"f'{X}')  "
   ]
  },
  {
   "cell_type": "code",
   "execution_count": 16,
   "metadata": {},
   "outputs": [
    {
     "name": "stdout",
     "output_type": "stream",
     "text": [
      "0,5,10,15,20,25,30,35,40,45,50,55,60,65,70,75,80,85,90,95,"
     ]
    }
   ],
   "source": [
    "#panda_30 利用for迴圈產生指定數列\n",
    "\n",
    "a,b,c = map(int,input().split())\n",
    "\n",
    "for i in range(a,b,c):\n",
    "    print(i, end=\",\")"
   ]
  },
  {
   "cell_type": "code",
   "execution_count": 17,
   "metadata": {},
   "outputs": [
    {
     "name": "stdout",
     "output_type": "stream",
     "text": [
      "[3, 4, 5, 6, 7]\n"
     ]
    }
   ],
   "source": [
    "#panda_32 利用range產生指定串列list\n",
    "\n",
    "a,b,c = map(int,input().split())\n",
    "k = range(a,b,c)\n",
    "print(list(k))"
   ]
  },
  {
   "cell_type": "code",
   "execution_count": 18,
   "metadata": {},
   "outputs": [
    {
     "name": "stdout",
     "output_type": "stream",
     "text": [
      "Invalid\n"
     ]
    }
   ],
   "source": [
    "#panda_33 判斷是否為等腰三角形\n",
    "\n",
    "a, b, c = map(int, input().split())\n",
    "\n",
    "if a == b == c or a == b or a == c or b == c:\n",
    "    print(\"Valid\")\n",
    "else:\n",
    "    print(\"Invalid\")"
   ]
  },
  {
   "cell_type": "code",
   "execution_count": 19,
   "metadata": {},
   "outputs": [
    {
     "name": "stdout",
     "output_type": "stream",
     "text": [
      "park time:11h:39m\n",
      "pay:300 money\n"
     ]
    }
   ],
   "source": [
    "#panda_34 停車費計算\n",
    "\n",
    "# 使用者輸入停車的分鐘數\n",
    "minutes = int(input())\n",
    "\n",
    "# 計算小時和分鐘\n",
    "hours = minutes // 60\n",
    "remaining_minutes = minutes % 60\n",
    "\n",
    "# 計算費用\n",
    "if remaining_minutes > 0:\n",
    "    fee = hours * 40 + 20\n",
    "else:\n",
    "    fee = hours * 40\n",
    "\n",
    "# 當日費用上限300元\n",
    "if fee > 300:\n",
    "   fee = 300\n",
    "\n",
    "# 輸出結果\n",
    "print(\"park time:\"f'{hours}'\"h:\"f'{remaining_minutes}'\"m\")\n",
    "print(\"pay:\"f'{fee}'\" money\")"
   ]
  },
  {
   "cell_type": "code",
   "execution_count": 20,
   "metadata": {},
   "outputs": [
    {
     "name": "stdout",
     "output_type": "stream",
     "text": [
      "370,371,407,\n"
     ]
    }
   ],
   "source": [
    "#panda_35 利用for迴圈來尋找水仙花數 XXXXXXXXXXXXXXXXXXXXXXXXXXXXXXX\n",
    "\n",
    "# 讀取使用者輸入的起始值和終止值\n",
    "start, end = map(int, input().split())\n",
    "\n",
    "# 初始化結果列表\n",
    "narcissistic_numbers = []\n",
    "\n",
    "# 遍歷範圍內的所有三位數\n",
    "for number in range(start, end + 1):\n",
    "    if 100 <= number <= 999:  # 確保只處理三位數\n",
    "        # 提取個位、十位和百位數字\n",
    "        units = number % 10\n",
    "        tens = (number // 10) % 10\n",
    "        hundreds = number // 100\n",
    "\n",
    "        # 計算立方和\n",
    "        sum_of_cubes = units**3 + tens**3 + hundreds**3\n",
    "\n",
    "        # 判斷是否為水仙花數\n",
    "        if sum_of_cubes == number:\n",
    "            narcissistic_numbers.append(number)\n",
    "\n",
    "# 印出結果，以逗號分隔\n",
    "print(','.join(map(str, narcissistic_numbers)) + ',')"
   ]
  },
  {
   "cell_type": "code",
   "execution_count": 21,
   "metadata": {},
   "outputs": [
    {
     "name": "stdout",
     "output_type": "stream",
     "text": [
      "t=2.0 b=5.0 h=4.8 area=16.8\n"
     ]
    }
   ],
   "source": [
    "#panda_40 計算梯形面積並格式化輸出\n",
    "\n",
    "t = float(input())\n",
    "b = float(input())\n",
    "h = float(input())\n",
    "area = (t + b) * h / 2\n",
    "\n",
    "print(\"t=\"f'{t}',\"b=\"f'{b}',\"h=\"f'{h}',\"area=\"f'{area}')"
   ]
  },
  {
   "cell_type": "code",
   "execution_count": 23,
   "metadata": {},
   "outputs": [
    {
     "name": "stdout",
     "output_type": "stream",
     "text": [
      "9.899999999999997\n"
     ]
    }
   ],
   "source": [
    "#panda_41 計算除法餘數\n",
    "\n",
    "a = float(input())\n",
    "b = float(input())\n",
    "\n",
    "q = a % b\n",
    "\n",
    "print(q)"
   ]
  },
  {
   "cell_type": "code",
   "execution_count": 29,
   "metadata": {},
   "outputs": [
    {
     "name": "stdout",
     "output_type": "stream",
     "text": [
      "13.333333333333334\n"
     ]
    }
   ],
   "source": [
    "#panda_43 計算除法商數至小數\n",
    "\n",
    "a = float(input())\n",
    "b = float(input())\n",
    "\n",
    "q = a / b\n",
    "\n",
    "print(q)"
   ]
  },
  {
   "cell_type": "code",
   "execution_count": null,
   "metadata": {},
   "outputs": [],
   "source": []
  }
 ],
 "metadata": {
  "kernelspec": {
   "display_name": "Python 3",
   "language": "python",
   "name": "python3"
  },
  "language_info": {
   "codemirror_mode": {
    "name": "ipython",
    "version": 3
   },
   "file_extension": ".py",
   "mimetype": "text/x-python",
   "name": "python",
   "nbconvert_exporter": "python",
   "pygments_lexer": "ipython3",
   "version": "3.12.5"
  }
 },
 "nbformat": 4,
 "nbformat_minor": 2
}
