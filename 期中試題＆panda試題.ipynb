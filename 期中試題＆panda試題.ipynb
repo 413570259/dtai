{
 "cells": [
  {
   "cell_type": "code",
   "execution_count": 1,
   "metadata": {},
   "outputs": [
    {
     "name": "stdout",
     "output_type": "stream",
     "text": [
      "期中試題\n"
     ]
    }
   ],
   "source": [
    "print(\"期中試題\")"
   ]
  },
  {
   "cell_type": "code",
   "execution_count": 2,
   "metadata": {},
   "outputs": [
    {
     "name": "stdout",
     "output_type": "stream",
     "text": [
      "PeeYuanAssHole\n",
      "14 letters\n"
     ]
    }
   ],
   "source": [
    "#Print字串與長度\n",
    "\n",
    "n = str(input())\n",
    "\n",
    "print(n)\n",
    "print(len(n),\"letters\")"
   ]
  },
  {
   "cell_type": "code",
   "execution_count": 6,
   "metadata": {},
   "outputs": [
    {
     "name": "stdout",
     "output_type": "stream",
     "text": [
      "ABC\n",
      "3 letters\n"
     ]
    }
   ],
   "source": [
    "#Print字串與長度-照提示做\n",
    "\n",
    "n = str(input()) \n",
    "n1 = len(n)\n",
    "\n",
    "a = '%d letters'\n",
    "\n",
    "\n",
    "print(n)\n",
    "print(a % n1)"
   ]
  },
  {
   "cell_type": "code",
   "execution_count": 60,
   "metadata": {},
   "outputs": [
    {
     "name": "stdout",
     "output_type": "stream",
     "text": [
      "a=10.246950765959598 b=14.317821063276353\n",
      "ans=24.56477182923595"
     ]
    }
   ],
   "source": [
    "#輸出開根號結果並加總\n",
    "\n",
    "a,b = map(float,input().split()) #輸入多個數字到多個變數內\n",
    "\n",
    "a1 = a**0.5\n",
    "b1 = b**0.5\n",
    "s = (a1 + b1)\n",
    "\n",
    "print(\"a=\"f'{a1}',\"b=\"f'{b1}',end=\"\\n\"\"ans=\"f'{s}')\n"
   ]
  },
  {
   "cell_type": "code",
   "execution_count": 107,
   "metadata": {},
   "outputs": [
    {
     "name": "stdout",
     "output_type": "stream",
     "text": [
      "17.19\n"
     ]
    }
   ],
   "source": [
    "#BMI計算\n",
    "\n",
    "m,k = map(float,input().split())\n",
    "\n",
    "BMI = k / (m**2)\n",
    "\n",
    "print(round(BMI,2))"
   ]
  },
  {
   "cell_type": "code",
   "execution_count": 73,
   "metadata": {},
   "outputs": [
    {
     "name": "stdout",
     "output_type": "stream",
     "text": [
      "39\n"
     ]
    }
   ],
   "source": [
    "#學號加總\n",
    "\n",
    "a,b,c,d,e,f,g,h,i = map(int,input().split())\n",
    "\n",
    "sum = a + b + c + d + e + f + g + h + i\n",
    "\n",
    "print(sum)"
   ]
  },
  {
   "cell_type": "code",
   "execution_count": 115,
   "metadata": {},
   "outputs": [
    {
     "name": "stdout",
     "output_type": "stream",
     "text": [
      "a=4 b=7\n",
      "a=7 b=4\n"
     ]
    }
   ],
   "source": [
    "#變數值交換\n",
    "\n",
    "a,b = map(int,input().split())\n",
    "\n",
    "i = 'a={0} b={1}'\n",
    "d = i.format(a,b)\n",
    "e = i.format(b,a)\n",
    "\n",
    "print(d,e,sep=\"\\n\")"
   ]
  },
  {
   "cell_type": "code",
   "execution_count": null,
   "metadata": {},
   "outputs": [],
   "source": [
    "#panda"
   ]
  },
  {
   "cell_type": "code",
   "execution_count": 1,
   "metadata": {},
   "outputs": [
    {
     "name": "stdout",
     "output_type": "stream",
     "text": [
      "PaNdA\n"
     ]
    }
   ],
   "source": [
    "#panda_13 大小寫變變樂\n",
    "\n",
    "# 讀取使用者輸入的字串\n",
    "input_string = input()\n",
    "\n",
    "# 初始化結果字串\n",
    "result = ''\n",
    "\n",
    "# 遍歷字串中的每個字符及其索引\n",
    "for i in range(len(input_string)):\n",
    "    char = input_string[i]\n",
    "    if i % 2 == 0:\n",
    "        # 偶數位置 為大寫\n",
    "        result += char.upper()\n",
    "    else:\n",
    "        # 奇數位置 為小寫\n",
    "        result += char.lower()\n",
    "\n",
    "# 印出結果\n",
    "print(result)"
   ]
  },
  {
   "cell_type": "code",
   "execution_count": 2,
   "metadata": {},
   "outputs": [
    {
     "name": "stdout",
     "output_type": "stream",
     "text": [
      "Valid\n"
     ]
    }
   ],
   "source": [
    "#panda_14 判斷是否構成三角形\n",
    "\n",
    "# 讀取使用者輸入的三個整數\n",
    "a, b, c = map(int, input().split())\n",
    "\n",
    "# 判斷是否構成三角形\n",
    "if a + b > c and a + c > b and b + c > a:\n",
    "    print(\"Valid\")\n",
    "else:\n",
    "    print(\"Invalid\")"
   ]
  },
  {
   "cell_type": "code",
   "execution_count": 10,
   "metadata": {},
   "outputs": [
    {
     "name": "stdout",
     "output_type": "stream",
     "text": [
      "***\n",
      "total:3\n"
     ]
    }
   ],
   "source": [
    "#panda_16 製作密碼遮罩器\n",
    "\n",
    "n = input()\n",
    "b = len(n)\n",
    "\n",
    "print(\"*\"*b,\"total:\"f'{b}',sep=\"\\n\")"
   ]
  },
  {
   "cell_type": "code",
   "execution_count": 4,
   "metadata": {},
   "outputs": [
    {
     "name": "stdout",
     "output_type": "stream",
     "text": [
      "01:30:38\n"
     ]
    }
   ],
   "source": [
    "#panda_17 時間秒數轉換\n",
    "\n",
    "# 讀取使用者輸入的秒數\n",
    "total = int(input())\n",
    "\n",
    "# 計算時、分、秒\n",
    "h = total // 3600\n",
    "m = (total % 3600) // 60\n",
    "s = total % 60\n",
    "\n",
    "# 格式化為 24 小時制的 'hh:mm:ss'\n",
    "formatted_time = f\"{h:02}:{m:02}:{s:02}\"\n",
    "\n",
    "# 輸出結果\n",
    "print(formatted_time)"
   ]
  },
  {
   "cell_type": "code",
   "execution_count": 2,
   "metadata": {},
   "outputs": [
    {
     "name": "stdout",
     "output_type": "stream",
     "text": [
      "1230\n"
     ]
    }
   ],
   "source": [
    "#panda_24 正整數和\n",
    "\n",
    "# 讀取使用者輸入的正整數 N\n",
    "N = int(input())\n",
    "\n",
    "# 確保 N 大於等於 10\n",
    "if N > 10:\n",
    "    # 計算從 10 到 N 的所有正整數的和\n",
    "    total_sum = sum(range(10, N + 1))\n",
    "    \n",
    "    # 輸出結果\n",
    "    print(total_sum)"
   ]
  },
  {
   "cell_type": "code",
   "execution_count": 14,
   "metadata": {},
   "outputs": [
    {
     "name": "stdout",
     "output_type": "stream",
     "text": [
      "34.0 is normal\n"
     ]
    }
   ],
   "source": [
    "#panda_25 體溫判斷\n",
    "\n",
    "X = float(input())\n",
    "if X >=37.5:\n",
    "    print(f'{X}'\" is over\")\n",
    "elif X >=37 and X <=37.4:\n",
    "    print(f'{X}'\" is little over\") \n",
    "elif X >=34 and X <=36.9:\n",
    "    print(f'{X}'\" is normal\")\n",
    "elif X <34:\n",
    "    print(f'{X}'\" is error\")      "
   ]
  },
  {
   "cell_type": "code",
   "execution_count": 20,
   "metadata": {},
   "outputs": [
    {
     "name": "stdout",
     "output_type": "stream",
     "text": [
      "10 is E\n"
     ]
    }
   ],
   "source": [
    "#panda_26 成績等第判斷\n",
    "X = int(input())\n",
    "\n",
    "if X >=90 and X <=100:\n",
    "    print(f'{X}'\" is A\")\n",
    "elif X >=80 and X <=89:\n",
    "    print(f'{X}'\" is B\") \n",
    "elif X >=70 and X <=79:\n",
    "    print(f'{X}'\" is C\")\n",
    "elif X >=60 and X <=69:\n",
    "    print(f'{X}'\" is D\")\n",
    "elif X <60 and X >=0 :\n",
    "    print(f'{X}'\" is E\")    \n",
    "else:\n",
    "    print(f'{X}'\" is error\")   \n"
   ]
  },
  {
   "cell_type": "code",
   "execution_count": 23,
   "metadata": {},
   "outputs": [
    {
     "name": "stdout",
     "output_type": "stream",
     "text": [
      "input error\n"
     ]
    }
   ],
   "source": [
    "#panda_27 季節判斷(國曆)\n",
    "\n",
    "X = int(input())\n",
    "\n",
    "if X >=3 and X <=5:\n",
    "    print(f'{X}'\" is spring\")\n",
    "elif X >=6 and X <=8:\n",
    "    print(f'{X}'\" is summer\") \n",
    "elif X >=9 and X <=11:\n",
    "    print(f'{X}'\" is autumn\")\n",
    "elif X ==12 or X ==1 or X ==2:\n",
    "    print(f'{X}'\" is winter\") \n",
    "else:\n",
    "    print(\"input error\")  "
   ]
  },
  {
   "cell_type": "code",
   "execution_count": 24,
   "metadata": {},
   "outputs": [
    {
     "name": "stdout",
     "output_type": "stream",
     "text": [
      "pay 600000.0 money\n"
     ]
    }
   ],
   "source": [
    "#panda_28 應付稅額判斷\n",
    "\n",
    "X = int(input())\n",
    "\n",
    "if X >=2000000:\n",
    "    X *=0.3\n",
    "    print(\"pay \"f'{X}'\" money\")\n",
    "elif X >=1000000 and X <2000000:\n",
    "    X *=0.21\n",
    "    print(\"pay \"f'{X}'\" money\") \n",
    "elif X >=600000 and X <1000000:\n",
    "    X *=0.13\n",
    "    print(\"pay \"f'{X}'\" money\")\n",
    "elif X >=300000 and X <600000:\n",
    "    X *=0.06\n",
    "    print(\"pay \"f'{X}'\" money\") \n",
    "else:\n",
    "    print(\"pay 0 money\")  "
   ]
  },
  {
   "cell_type": "code",
   "execution_count": 25,
   "metadata": {},
   "outputs": [
    {
     "name": "stdout",
     "output_type": "stream",
     "text": [
      "85% discount is 42500.0\n"
     ]
    }
   ],
   "source": [
    "#panda_29 百貨公司週年慶\n",
    "\n",
    "X = int(input())\n",
    "\n",
    "if X >=100000:\n",
    "    X *=0.8\n",
    "    print(\"80% discount is \"f'{X}')\n",
    "elif X >=50000 and X <100000:\n",
    "    X *=0.85\n",
    "    print(\"85% discount is \"f'{X}') \n",
    "elif X >=30000 and X <50000:\n",
    "    X *=0.9\n",
    "    print(\"90% discount is \"f'{X}')\n",
    "elif X >=10000 and X <30000:\n",
    "    X *=0.95\n",
    "    print(\"95% discount is \"f'{X}') \n",
    "else:\n",
    "    print(\"no discount is \"f'{X}')  "
   ]
  },
  {
   "cell_type": "code",
   "execution_count": 3,
   "metadata": {},
   "outputs": [
    {
     "name": "stdout",
     "output_type": "stream",
     "text": [
      "sum:29\n",
      "squ:5.385164807134504\n",
      "squi:5\n",
      "squi is odd\n"
     ]
    }
   ],
   "source": [
    "#panda_31 將學號總和開根號後，再判斷奇偶數\n",
    "\n",
    "a,b,c,d,e,f,g,h,i = map(int,input().split())\n",
    "\n",
    "sum = a + b + c + d + e + f + g + h + i\n",
    "squ = (a + b + c + d + e + f + g + h + i)**0.5\n",
    "squi = int(squ)\n",
    "if squi % 2 == 0:\n",
    "    j = \"even\"\n",
    "elif squi %2 !=0:\n",
    "    j =\"odd\"    \n",
    "\n",
    "print(\"sum:\"f'{sum}',\"squ:\"f'{squ}',\"squi:\"f'{squi}',\"squi is \"f'{j}',sep=\"\\n\")"
   ]
  },
  {
   "cell_type": "code",
   "execution_count": 16,
   "metadata": {},
   "outputs": [
    {
     "name": "stdout",
     "output_type": "stream",
     "text": [
      "Valid\n"
     ]
    }
   ],
   "source": [
    "#panda_33 判斷是否為等腰三角形\n",
    "\n",
    "a, b, c = map(int, input().split())\n",
    "\n",
    "if a == b == c or a == b or a == c or b == c:\n",
    "    print(\"Valid\")\n",
    "else:\n",
    "    print(\"Invalid\")"
   ]
  },
  {
   "cell_type": "code",
   "execution_count": 18,
   "metadata": {},
   "outputs": [
    {
     "name": "stdout",
     "output_type": "stream",
     "text": [
      "park time:11h:9m\n",
      "pay:300 money\n"
     ]
    }
   ],
   "source": [
    "#panda_34 停車費計算\n",
    "\n",
    "# 使用者輸入停車的分鐘數\n",
    "minutes = int(input())\n",
    "\n",
    "# 計算小時和分鐘\n",
    "hours = minutes // 60\n",
    "remaining_minutes = minutes % 60\n",
    "\n",
    "# 計算費用\n",
    "if remaining_minutes > 0:\n",
    "    fee = hours * 40 + 20\n",
    "else:\n",
    "    fee = hours * 40\n",
    "\n",
    "# 當日費用上限300元\n",
    "if fee > 300:\n",
    "   fee = 300\n",
    "\n",
    "# 輸出結果\n",
    "print(\"park time:\"f'{hours}'\"h:\"f'{remaining_minutes}'\"m\")\n",
    "print(\"pay:\"f'{fee}'\" money\")"
   ]
  },
  {
   "cell_type": "code",
   "execution_count": 1,
   "metadata": {},
   "outputs": [
    {
     "name": "stdout",
     "output_type": "stream",
     "text": [
      "153,\n"
     ]
    }
   ],
   "source": [
    "#panda_35 利用for迴圈來尋找水仙花數 XXXXXXXXXXXXXXXXXXXXXXXXXXXXXXX\n",
    "\n",
    "# 讀取使用者輸入的起始值和終止值\n",
    "start, end = map(int, input().split())\n",
    "\n",
    "# 初始化結果列表\n",
    "narcissistic_numbers = []\n",
    "\n",
    "# 遍歷範圍內的所有三位數\n",
    "for number in range(start, end + 1):\n",
    "    if 100 <= number <= 999:  # 確保只處理三位數\n",
    "        # 提取個位、十位和百位數字\n",
    "        units = number % 10\n",
    "        tens = (number // 10) % 10\n",
    "        hundreds = number // 100\n",
    "\n",
    "        # 計算立方和\n",
    "        sum_of_cubes = units**3 + tens**3 + hundreds**3\n",
    "\n",
    "        # 判斷是否為水仙花數\n",
    "        if sum_of_cubes == number:\n",
    "            narcissistic_numbers.append(number)\n",
    "\n",
    "# 印出結果，以逗號分隔\n",
    "print(','.join(map(str, narcissistic_numbers)) + ',')"
   ]
  },
  {
   "cell_type": "code",
   "execution_count": 3,
   "metadata": {},
   "outputs": [
    {
     "name": "stdout",
     "output_type": "stream",
     "text": [
      "t=3.0 b=7.5 h=4.8 area=25.2\n"
     ]
    }
   ],
   "source": [
    "#panda_40 計算梯形面積並格式化輸出\n",
    "\n",
    "t = float(input())\n",
    "b = float(input())\n",
    "h = float(input())\n",
    "area = (t + b) * h / 2\n",
    "\n",
    "print(\"t=\"f'{t}',\"b=\"f'{b}',\"h=\"f'{h}',\"area=\"f'{area}')"
   ]
  },
  {
   "cell_type": "code",
   "execution_count": null,
   "metadata": {},
   "outputs": [],
   "source": []
  }
 ],
 "metadata": {
  "kernelspec": {
   "display_name": "Python 3",
   "language": "python",
   "name": "python3"
  },
  "language_info": {
   "codemirror_mode": {
    "name": "ipython",
    "version": 3
   },
   "file_extension": ".py",
   "mimetype": "text/x-python",
   "name": "python",
   "nbconvert_exporter": "python",
   "pygments_lexer": "ipython3",
   "version": "3.12.5"
  }
 },
 "nbformat": 4,
 "nbformat_minor": 2
}
