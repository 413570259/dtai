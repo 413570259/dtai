{
 "cells": [
  {
   "cell_type": "code",
   "execution_count": 1,
   "metadata": {},
   "outputs": [
    {
     "name": "stdout",
     "output_type": "stream",
     "text": [
      "期中試題\n"
     ]
    }
   ],
   "source": [
    "print(\"期中試題\")"
   ]
  },
  {
   "cell_type": "code",
   "execution_count": 2,
   "metadata": {},
   "outputs": [
    {
     "name": "stdout",
     "output_type": "stream",
     "text": [
      "PeeYuanAssHole\n",
      "14 letters\n"
     ]
    }
   ],
   "source": [
    "#Print字串與長度\n",
    "\n",
    "n = str(input())\n",
    "\n",
    "print(n)\n",
    "print(len(n),\"letters\")"
   ]
  },
  {
   "cell_type": "code",
   "execution_count": 6,
   "metadata": {},
   "outputs": [
    {
     "name": "stdout",
     "output_type": "stream",
     "text": [
      "ABC\n",
      "3 letters\n"
     ]
    }
   ],
   "source": [
    "#Print字串與長度-照提示做\n",
    "\n",
    "n = str(input()) \n",
    "n1 = len(n)\n",
    "\n",
    "a = '%d letters'\n",
    "\n",
    "\n",
    "print(n)\n",
    "print(a % n1)"
   ]
  },
  {
   "cell_type": "code",
   "execution_count": 60,
   "metadata": {},
   "outputs": [
    {
     "name": "stdout",
     "output_type": "stream",
     "text": [
      "a=10.246950765959598 b=14.317821063276353\n",
      "ans=24.56477182923595"
     ]
    }
   ],
   "source": [
    "#輸出開根號結果並加總\n",
    "\n",
    "a,b = map(float,input().split()) #輸入多個數字到多個變數內\n",
    "\n",
    "a1 = a**0.5\n",
    "b1 = b**0.5\n",
    "s = (a1 + b1)\n",
    "\n",
    "print(\"a=\"f'{a1}',\"b=\"f'{b1}',end=\"\\n\"\"ans=\"f'{s}')\n"
   ]
  },
  {
   "cell_type": "code",
   "execution_count": 107,
   "metadata": {},
   "outputs": [
    {
     "name": "stdout",
     "output_type": "stream",
     "text": [
      "17.19\n"
     ]
    }
   ],
   "source": [
    "#BMI計算\n",
    "\n",
    "m,k = map(float,input().split())\n",
    "\n",
    "BMI = k / (m**2)\n",
    "\n",
    "print(round(BMI,2))"
   ]
  },
  {
   "cell_type": "code",
   "execution_count": 73,
   "metadata": {},
   "outputs": [
    {
     "name": "stdout",
     "output_type": "stream",
     "text": [
      "39\n"
     ]
    }
   ],
   "source": [
    "#學號加總\n",
    "\n",
    "a,b,c,d,e,f,g,h,i = map(int,input().split())\n",
    "\n",
    "sum = a + b + c + d + e + f + g + h + i\n",
    "\n",
    "print(sum)"
   ]
  },
  {
   "cell_type": "code",
   "execution_count": 115,
   "metadata": {},
   "outputs": [
    {
     "name": "stdout",
     "output_type": "stream",
     "text": [
      "a=4 b=7\n",
      "a=7 b=4\n"
     ]
    }
   ],
   "source": [
    "#變數值交換\n",
    "\n",
    "a,b = map(int,input().split())\n",
    "\n",
    "i = 'a={0} b={1}'\n",
    "d = i.format(a,b)\n",
    "e = i.format(b,a)\n",
    "\n",
    "print(d,e,sep=\"\\n\")"
   ]
  },
  {
   "cell_type": "code",
   "execution_count": null,
   "metadata": {},
   "outputs": [],
   "source": [
    "#panda"
   ]
  },
  {
   "cell_type": "code",
   "execution_count": 1,
   "metadata": {},
   "outputs": [
    {
     "name": "stdout",
     "output_type": "stream",
     "text": [
      "PaNdA\n"
     ]
    }
   ],
   "source": [
    "#panda_13 大小寫變變樂\n",
    "\n",
    "# 讀取使用者輸入的字串\n",
    "input_string = input()\n",
    "\n",
    "# 初始化結果字串\n",
    "result = ''\n",
    "\n",
    "# 遍歷字串中的每個字符及其索引\n",
    "for i in range(len(input_string)):\n",
    "    char = input_string[i]\n",
    "    if i % 2 == 0:\n",
    "        # 偶數位置 為大寫\n",
    "        result += char.upper()\n",
    "    else:\n",
    "        # 奇數位置 為小寫\n",
    "        result += char.lower()\n",
    "\n",
    "# 印出結果\n",
    "print(result)"
   ]
  },
  {
   "cell_type": "code",
   "execution_count": 2,
   "metadata": {},
   "outputs": [
    {
     "name": "stdout",
     "output_type": "stream",
     "text": [
      "Valid\n"
     ]
    }
   ],
   "source": [
    "#panda_14 判斷是否構成三角形\n",
    "\n",
    "# 讀取使用者輸入的三個整數\n",
    "a, b, c = map(int, input().split())\n",
    "\n",
    "# 判斷是否構成三角形\n",
    "if a + b > c and a + c > b and b + c > a:\n",
    "    print(\"Valid\")\n",
    "else:\n",
    "    print(\"Invalid\")"
   ]
  },
  {
   "cell_type": "code",
   "execution_count": 10,
   "metadata": {},
   "outputs": [
    {
     "name": "stdout",
     "output_type": "stream",
     "text": [
      "***\n",
      "total:3\n"
     ]
    }
   ],
   "source": [
    "#panda_16 製作密碼遮罩器\n",
    "\n",
    "n = input()\n",
    "b = len(n)\n",
    "\n",
    "print(\"*\"*b,\"total:\"f'{b}',sep=\"\\n\")"
   ]
  },
  {
   "cell_type": "code",
   "execution_count": 4,
   "metadata": {},
   "outputs": [
    {
     "name": "stdout",
     "output_type": "stream",
     "text": [
      "01:30:38\n"
     ]
    }
   ],
   "source": [
    "#panda_17 時間秒數轉換\n",
    "\n",
    "# 讀取使用者輸入的秒數\n",
    "total = int(input())\n",
    "\n",
    "# 計算時、分、秒\n",
    "h = total // 3600\n",
    "m = (total % 3600) // 60\n",
    "s = total % 60\n",
    "\n",
    "# 格式化為 24 小時制的 'hh:mm:ss'\n",
    "formatted_time = f\"{h:02}:{m:02}:{s:02}\"\n",
    "\n",
    "# 輸出結果\n",
    "print(formatted_time)"
   ]
  },
  {
   "cell_type": "code",
   "execution_count": null,
   "metadata": {},
   "outputs": [],
   "source": [
    "#panda_24 正整數和\n",
    "\n",
    "# 讀取使用者輸入的正整數 N\n",
    "N = int(input())\n",
    "\n",
    "# 確保 N 大於等於 10\n",
    "if N < 10:\n",
    "    print(\"N must be at least 10\")\n",
    "else:\n",
    "    # 計算從 10 到 N 的所有正整數的和\n",
    "    total_sum = sum(range(10, N + 1))\n",
    "    \n",
    "    # 輸出結果\n",
    "    print(total_sum)"
   ]
  },
  {
   "cell_type": "code",
   "execution_count": null,
   "metadata": {},
   "outputs": [],
   "source": [
    "#panda_25 體溫判斷 XXXXXXXXXXXXXXXXXXXXXXXXXXXXXXXXXXXXXXXXX\n",
    "\n",
    "X = float(input())\n",
    "if X >=37.5:\n",
    "    print(X,\"is over\")\n",
    "elif X >37.0 and X <=37.4:\n",
    "    print(X,\"is little over\") \n",
    "elif X >34.0 and X <=36.9:\n",
    "    print(X,\"is normal\")\n",
    "elif X <34.0:\n",
    "    print(X,\"is error\")           "
   ]
  },
  {
   "cell_type": "code",
   "execution_count": null,
   "metadata": {},
   "outputs": [],
   "source": [
    "#panda_26 成績等第判斷"
   ]
  },
  {
   "cell_type": "code",
   "execution_count": null,
   "metadata": {},
   "outputs": [],
   "source": [
    "#panda_27 季節判斷(國曆)"
   ]
  },
  {
   "cell_type": "code",
   "execution_count": null,
   "metadata": {},
   "outputs": [],
   "source": [
    "#panda_28 應付稅額判斷"
   ]
  },
  {
   "cell_type": "code",
   "execution_count": null,
   "metadata": {},
   "outputs": [],
   "source": [
    "#panda_29 百貨公司週年慶"
   ]
  },
  {
   "cell_type": "code",
   "execution_count": 3,
   "metadata": {},
   "outputs": [
    {
     "name": "stdout",
     "output_type": "stream",
     "text": [
      "sum:29\n",
      "squ:5.385164807134504\n",
      "squi:5\n",
      "squi is odd\n"
     ]
    }
   ],
   "source": [
    "#panda_31 將學號總和開根號後，再判斷奇偶數\n",
    "\n",
    "a,b,c,d,e,f,g,h,i = map(int,input().split())\n",
    "\n",
    "sum = a + b + c + d + e + f + g + h + i\n",
    "squ = (a + b + c + d + e + f + g + h + i)**0.5\n",
    "squi = int(squ)\n",
    "if squi % 2 == 0:\n",
    "    j = \"even\"\n",
    "elif squi %2 !=0:\n",
    "    j =\"odd\"    \n",
    "\n",
    "print(\"sum:\"f'{sum}',\"squ:\"f'{squ}',\"squi:\"f'{squi}',\"squi is \"f'{j}',sep=\"\\n\")"
   ]
  },
  {
   "cell_type": "code",
   "execution_count": null,
   "metadata": {},
   "outputs": [],
   "source": [
    "#panda_33 判斷是否為等腰三角形"
   ]
  },
  {
   "cell_type": "code",
   "execution_count": null,
   "metadata": {},
   "outputs": [],
   "source": [
    "#panda_34 停車費計算"
   ]
  },
  {
   "cell_type": "code",
   "execution_count": 1,
   "metadata": {},
   "outputs": [
    {
     "name": "stdout",
     "output_type": "stream",
     "text": [
      "153,\n"
     ]
    }
   ],
   "source": [
    "#panda_利用for迴圈來尋找水仙花數 XXXXXXXXXXXXXXXXXXXXXXXXXXXXXXX\n",
    "\n",
    "# 讀取使用者輸入的起始值和終止值\n",
    "start, end = map(int, input().split())\n",
    "\n",
    "# 初始化結果列表\n",
    "narcissistic_numbers = []\n",
    "\n",
    "# 遍歷範圍內的所有三位數\n",
    "for number in range(start, end + 1):\n",
    "    if 100 <= number <= 999:  # 確保只處理三位數\n",
    "        # 提取個位、十位和百位數字\n",
    "        units = number % 10\n",
    "        tens = (number // 10) % 10\n",
    "        hundreds = number // 100\n",
    "\n",
    "        # 計算立方和\n",
    "        sum_of_cubes = units**3 + tens**3 + hundreds**3\n",
    "\n",
    "        # 判斷是否為水仙花數\n",
    "        if sum_of_cubes == number:\n",
    "            narcissistic_numbers.append(number)\n",
    "\n",
    "# 印出結果，以逗號分隔\n",
    "print(','.join(map(str, narcissistic_numbers)) + ',')"
   ]
  },
  {
   "cell_type": "code",
   "execution_count": 3,
   "metadata": {},
   "outputs": [
    {
     "name": "stdout",
     "output_type": "stream",
     "text": [
      "t=3.0 b=7.5 h=4.8 area=25.2\n"
     ]
    }
   ],
   "source": [
    "#panda_40 計算梯形面積並格式化輸出\n",
    "\n",
    "t = float(input())\n",
    "b = float(input())\n",
    "h = float(input())\n",
    "area = (t + b) * h / 2\n",
    "\n",
    "print(\"t=\"f'{t}',\"b=\"f'{b}',\"h=\"f'{h}',\"area=\"f'{area}')"
   ]
  },
  {
   "cell_type": "code",
   "execution_count": null,
   "metadata": {},
   "outputs": [],
   "source": []
  }
 ],
 "metadata": {
  "kernelspec": {
   "display_name": "Python 3",
   "language": "python",
   "name": "python3"
  },
  "language_info": {
   "codemirror_mode": {
    "name": "ipython",
    "version": 3
   },
   "file_extension": ".py",
   "mimetype": "text/x-python",
   "name": "python",
   "nbconvert_exporter": "python",
   "pygments_lexer": "ipython3",
   "version": "3.12.4"
  }
 },
 "nbformat": 4,
 "nbformat_minor": 2
}
