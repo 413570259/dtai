{
 "cells": [
  {
   "cell_type": "code",
   "execution_count": 1,
   "metadata": {},
   "outputs": [
    {
     "name": "stdout",
     "output_type": "stream",
     "text": [
      "期末考\n"
     ]
    }
   ],
   "source": [
    "print(\"期末考\")"
   ]
  },
  {
   "cell_type": "code",
   "execution_count": 2,
   "metadata": {},
   "outputs": [
    {
     "name": "stdout",
     "output_type": "stream",
     "text": [
      "2.5\n"
     ]
    }
   ],
   "source": [
    "#Quiz_1 計算除法餘數\n",
    "\n",
    "\n",
    "a = float(input())\n",
    "b = float(input())\n",
    "\n",
    "q = a % b\n",
    "\n",
    "print(q)"
   ]
  },
  {
   "cell_type": "code",
   "execution_count": 5,
   "metadata": {},
   "outputs": [
    {
     "name": "stdout",
     "output_type": "stream",
     "text": [
      "t=2.0 b=5.0 h=4.8 area=16.8\n"
     ]
    }
   ],
   "source": [
    "#Quiz_2 計算梯形面積並格式化輸出\n",
    "\n",
    "t = float(input())\n",
    "b = float(input())\n",
    "h = float(input())\n",
    "area = (t + b) * h / 2\n",
    "\n",
    "print(\"t=\"f'{t}',\"b=\"f'{b}',\"h=\"f'{h}',\"area=\"f'{area}')"
   ]
  },
  {
   "cell_type": "code",
   "execution_count": 6,
   "metadata": {},
   "outputs": [
    {
     "name": "stdout",
     "output_type": "stream",
     "text": [
      "park time:11h:9m\n",
      "pay:300 money\n"
     ]
    }
   ],
   "source": [
    "#Quiz_3 停車費計算\n",
    "\n",
    "ms = int(input())\n",
    "\n",
    "h = ms // 60\n",
    "m = ms % 60\n",
    "\n",
    "if m > 0:\n",
    "    fee = h * 40 + 20\n",
    "else:\n",
    "    fee = h * 40\n",
    "\n",
    "if fee > 300:\n",
    "   fee = 300\n",
    "\n",
    "print(\"park time:\"f'{h}'\"h:\"f'{m}'\"m\")\n",
    "print(\"pay:\"f'{fee}'\" money\")"
   ]
  },
  {
   "cell_type": "code",
   "execution_count": 7,
   "metadata": {},
   "outputs": [
    {
     "name": "stdout",
     "output_type": "stream",
     "text": [
      "[3, 4, 5, 6, 7]\n"
     ]
    }
   ],
   "source": [
    "#Quiz_4 利用range產生指定串列list\n",
    "\n",
    "a,b,c = map(int,input().split())\n",
    "k = range(a,b,c)\n",
    "print(list(k))"
   ]
  },
  {
   "cell_type": "code",
   "execution_count": 8,
   "metadata": {},
   "outputs": [
    {
     "name": "stdout",
     "output_type": "stream",
     "text": [
      "2097 is common year\n"
     ]
    }
   ],
   "source": [
    "#Quiz_5 判斷平年、閏年\n",
    "\n",
    "n = int(input())\n",
    "\n",
    "if n % 4 == 0 and n % 100 != 0 :\n",
    "    print(n,\"is leap year\")\n",
    "elif n % 100 == 0 and n % 400 == 0 :\n",
    "    print(n,\"is leap year\")    \n",
    "else:\n",
    "    print(n,\"is common year\")"
   ]
  },
  {
   "cell_type": "code",
   "execution_count": 9,
   "metadata": {},
   "outputs": [
    {
     "name": "stdout",
     "output_type": "stream",
     "text": [
      "90 is A\n"
     ]
    }
   ],
   "source": [
    "#Quiz_6 成績等第判斷\n",
    "\n",
    "X = int(input())\n",
    "\n",
    "if X >=90 and X <=100:\n",
    "    print(f'{X}'\" is A\")\n",
    "elif X >=80 and X <=89:\n",
    "    print(f'{X}'\" is B\") \n",
    "elif X >=70 and X <=79:\n",
    "    print(f'{X}'\" is C\")\n",
    "elif X >=60 and X <=69:\n",
    "    print(f'{X}'\" is D\")\n",
    "elif X <60 and X >=0 :\n",
    "    print(f'{X}'\" is E\")    \n",
    "else:\n",
    "    print(f'{X}'\" is error\") "
   ]
  },
  {
   "cell_type": "code",
   "execution_count": 10,
   "metadata": {},
   "outputs": [
    {
     "name": "stdout",
     "output_type": "stream",
     "text": [
      "0,5,10,15,20,25,30,35,40,45,50,55,60,65,70,75,80,85,90,95,"
     ]
    }
   ],
   "source": [
    "#Quiz_7 利用for迴圈產生指定數列\n",
    "\n",
    "a,b,c = map(int,input().split())\n",
    "\n",
    "for i in range(a,b,c):\n",
    "    print(i, end=\",\")"
   ]
  },
  {
   "cell_type": "code",
   "execution_count": 11,
   "metadata": {},
   "outputs": [
    {
     "name": "stdout",
     "output_type": "stream",
     "text": [
      "*\n",
      "**\n",
      "***\n",
      "****\n",
      "*****\n"
     ]
    }
   ],
   "source": [
    "#Quiz_8 用＊印出靠左下的直角三角形\n",
    "\n",
    "n = int(input())\n",
    "for i in range(1, n + 1):\n",
    "    for j in range(1, i + 1):\n",
    "        print('*',  end=\"\")\n",
    "    print()    "
   ]
  },
  {
   "cell_type": "code",
   "execution_count": 12,
   "metadata": {},
   "outputs": [
    {
     "name": "stdout",
     "output_type": "stream",
     "text": [
      "5*1=5 5*2=10 5*3=15 5*4=20 5*5=25 5*6=30 5*7=35 5*8=40 5*9=45 \n",
      "6*1=6 6*2=12 6*3=18 6*4=24 6*5=30 6*6=36 6*7=42 6*8=48 6*9=54 \n",
      "7*1=7 7*2=14 7*3=21 7*4=28 7*5=35 7*6=42 7*7=49 7*8=56 7*9=63 \n",
      "8*1=8 8*2=16 8*3=24 8*4=32 8*5=40 8*6=48 8*7=56 8*8=64 8*9=72 \n",
      "9*1=9 9*2=18 9*3=27 9*4=36 9*5=45 9*6=54 9*7=63 9*8=72 9*9=81 \n"
     ]
    }
   ],
   "source": [
    "#Quiz_9 印出乘法表\n",
    "\n",
    "n = int(input())\n",
    "\n",
    "for j in range(n, 10):  \n",
    "    for i in range(1, 10):  \n",
    "        print(\"%d*%d=%d\" % (j, i, j * i), end=\" \")\n",
    "    print()"
   ]
  },
  {
   "cell_type": "code",
   "execution_count": 3,
   "metadata": {},
   "outputs": [
    {
     "name": "stdout",
     "output_type": "stream",
     "text": [
      "153,\n"
     ]
    }
   ],
   "source": [
    "#Quiz_10 利用for迴圈來尋找水仙花數\n",
    "\n",
    "a, b = map(int, input().split())\n",
    "\n",
    "numbers = []\n",
    "\n",
    "for i in range(a, b + 1):\n",
    "    if 100 <= i <= 999:\n",
    "        x = i % 10\n",
    "        y = (i // 10) % 10\n",
    "        z = i // 100\n",
    "\n",
    "        sum_of_cubes = x**3 + y**3 + z**3\n",
    "\n",
    "        if sum_of_cubes == i:\n",
    "             numbers.append(i)\n",
    "\n",
    "print(','.join(map(str, numbers)) + ',')"
   ]
  }
 ],
 "metadata": {
  "kernelspec": {
   "display_name": "Python 3",
   "language": "python",
   "name": "python3"
  },
  "language_info": {
   "codemirror_mode": {
    "name": "ipython",
    "version": 3
   },
   "file_extension": ".py",
   "mimetype": "text/x-python",
   "name": "python",
   "nbconvert_exporter": "python",
   "pygments_lexer": "ipython3",
   "version": "3.12.4"
  }
 },
 "nbformat": 4,
 "nbformat_minor": 2
}
