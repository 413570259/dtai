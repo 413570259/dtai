{
 "cells": [
  {
   "cell_type": "code",
   "execution_count": 1,
   "metadata": {},
   "outputs": [
    {
     "name": "stdout",
     "output_type": "stream",
     "text": [
      "期中試題\n"
     ]
    }
   ],
   "source": [
    "print(\"期中試題\")"
   ]
  },
  {
   "cell_type": "code",
   "execution_count": 2,
   "metadata": {},
   "outputs": [
    {
     "name": "stdout",
     "output_type": "stream",
     "text": [
      "PeeYuanAssHole\n",
      "14 letters\n"
     ]
    }
   ],
   "source": [
    "#Print字串與長度\n",
    "\n",
    "n = str(input())\n",
    "\n",
    "print(n)\n",
    "print(len(n),\"letters\")"
   ]
  },
  {
   "cell_type": "code",
   "execution_count": 6,
   "metadata": {},
   "outputs": [
    {
     "name": "stdout",
     "output_type": "stream",
     "text": [
      "ABC\n",
      "3 letters\n"
     ]
    }
   ],
   "source": [
    "#Print字串與長度-照提示做\n",
    "\n",
    "n = str(input()) \n",
    "n1 = len(n)\n",
    "\n",
    "a = '%d letters'\n",
    "\n",
    "\n",
    "print(n)\n",
    "print(a % n1)"
   ]
  },
  {
   "cell_type": "code",
   "execution_count": 60,
   "metadata": {},
   "outputs": [
    {
     "name": "stdout",
     "output_type": "stream",
     "text": [
      "a=10.246950765959598 b=14.317821063276353\n",
      "ans=24.56477182923595"
     ]
    }
   ],
   "source": [
    "#輸出開根號結果並加總\n",
    "\n",
    "a,b = map(float,input().split()) #輸入多個數字到多個變數內\n",
    "\n",
    "a1 = a**0.5\n",
    "b1 = b**0.5\n",
    "s = (a1 + b1)\n",
    "\n",
    "print(\"a=\"f'{a1}',\"b=\"f'{b1}',end=\"\\n\"\"ans=\"f'{s}')\n"
   ]
  },
  {
   "cell_type": "code",
   "execution_count": 107,
   "metadata": {},
   "outputs": [
    {
     "name": "stdout",
     "output_type": "stream",
     "text": [
      "17.19\n"
     ]
    }
   ],
   "source": [
    "#BMI計算\n",
    "\n",
    "m,k =map(float,input().split())\n",
    "\n",
    "BMI = k / (m**2)\n",
    "\n",
    "print(round(BMI,2))"
   ]
  },
  {
   "cell_type": "code",
   "execution_count": 73,
   "metadata": {},
   "outputs": [
    {
     "name": "stdout",
     "output_type": "stream",
     "text": [
      "39\n"
     ]
    }
   ],
   "source": [
    "#學號加總\n",
    "\n",
    "a,b,c,d,e,f,g,h,i =map(int,input().split())\n",
    "\n",
    "sum = a + b + c + d + e + f + g + h + i\n",
    "\n",
    "print(sum)"
   ]
  },
  {
   "cell_type": "code",
   "execution_count": 106,
   "metadata": {},
   "outputs": [
    {
     "name": "stdout",
     "output_type": "stream",
     "text": [
      "a=4 b=7\n",
      "a=7 b=4"
     ]
    }
   ],
   "source": [
    "#變數值交換\n",
    "\n",
    "a,b = map(int,input().split())\n",
    "\n",
    "i = 'a={0} b={1}'\n",
    "d = i.format(a,b)\n",
    "e = i.format(b,a)\n",
    "\n",
    "print(f'{d}',end=\"\\n\"f'{e}')"
   ]
  },
  {
   "cell_type": "code",
   "execution_count": null,
   "metadata": {},
   "outputs": [],
   "source": []
  },
  {
   "cell_type": "code",
   "execution_count": null,
   "metadata": {},
   "outputs": [],
   "source": []
  }
 ],
 "metadata": {
  "kernelspec": {
   "display_name": "Python 3",
   "language": "python",
   "name": "python3"
  },
  "language_info": {
   "codemirror_mode": {
    "name": "ipython",
    "version": 3
   },
   "file_extension": ".py",
   "mimetype": "text/x-python",
   "name": "python",
   "nbconvert_exporter": "python",
   "pygments_lexer": "ipython3",
   "version": "3.12.5"
  }
 },
 "nbformat": 4,
 "nbformat_minor": 2
}
