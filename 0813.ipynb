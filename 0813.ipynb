{
 "cells": [
  {
   "cell_type": "code",
   "execution_count": 1,
   "metadata": {},
   "outputs": [
    {
     "name": "stdout",
     "output_type": "stream",
     "text": [
      "0813\n"
     ]
    }
   ],
   "source": [
    "print(\"0813\")"
   ]
  },
  {
   "cell_type": "code",
   "execution_count": null,
   "metadata": {},
   "outputs": [],
   "source": [
    "if( score >=60):\n",
    "    grade=\"及格\"\n",
    "    sum= sum + score"
   ]
  },
  {
   "cell_type": "code",
   "execution_count": 3,
   "metadata": {},
   "outputs": [
    {
     "name": "stdout",
     "output_type": "stream",
     "text": [
      "密碼正確\n"
     ]
    }
   ],
   "source": [
    "密碼 = int(input(\"請輸入密碼\"))\n",
    "if 密碼 == 1234:\n",
    "    print(\"密碼正確\")"
   ]
  },
  {
   "cell_type": "code",
   "execution_count": 10,
   "metadata": {},
   "outputs": [
    {
     "name": "stdout",
     "output_type": "stream",
     "text": [
      "出門記得帶傘\n"
     ]
    }
   ],
   "source": [
    "rain = str(input(\"今天會下雨嗎?\"))\n",
    "if(rain==\"Y\"or rain==\"y\"):\n",
    "    print(\"出門記得帶傘\")"
   ]
  },
  {
   "cell_type": "code",
   "execution_count": 7,
   "metadata": {},
   "outputs": [
    {
     "name": "stdout",
     "output_type": "stream",
     "text": [
      "密碼錯誤\n"
     ]
    }
   ],
   "source": [
    "密碼 = int(input(\"請輸入密碼\"))\n",
    "if 密碼 == 1234:\n",
    "    print(\"密碼正確\")\n",
    "else:\n",
    "    print (\"密碼錯誤\")"
   ]
  },
  {
   "cell_type": "code",
   "execution_count": 12,
   "metadata": {},
   "outputs": [
    {
     "name": "stdout",
     "output_type": "stream",
     "text": [
      "你輸入的數字是奇數\n"
     ]
    }
   ],
   "source": [
    "偶數判斷 = int(input(\"請輸入一個正整數\"))\n",
    "if 偶數判斷%2== 0:\n",
    "    print(\"你輸入的數字是偶數\")\n",
    "else:\n",
    "    print(\"你輸入的數字是奇數\")    "
   ]
  },
  {
   "cell_type": "code",
   "execution_count": 16,
   "metadata": {},
   "outputs": [
    {
     "name": "stdout",
     "output_type": "stream",
     "text": [
      "體溫過高!\n"
     ]
    }
   ],
   "source": [
    "體溫 = float(input(\"請輸入體溫\"))\n",
    "if 體溫>=37.5:\n",
    "    print(\"體溫過高!\")\n",
    "elif 體溫 >37.0 and 體溫 <=37.4:\n",
    "    print(\"體溫略高!\") \n",
    "elif 體溫 >34.0 and 體溫 <=36.9:\n",
    "    print(\"體溫正常!\")\n",
    "else:\n",
    "    print(\"體溫異常，請重新量測!\")           "
   ]
  },
  {
   "cell_type": "code",
   "execution_count": 19,
   "metadata": {},
   "outputs": [
    {
     "name": "stdout",
     "output_type": "stream",
     "text": [
      "A\n"
     ]
    }
   ],
   "source": [
    "成績 = int(input(\"請輸入成績\"))\n",
    "if 成績>=90:\n",
    "    print(\"A\")\n",
    "elif 成績 >80 and 成績 <=89:\n",
    "    print(\"B\") \n",
    "elif 成績 >70 and 成績 <=79:\n",
    "    print(\"C\")\n",
    "elif 成績 >60 and 成績 <=69:\n",
    "    print(\"D\")\n",
    "else:\n",
    "    print(\"E\")    "
   ]
  },
  {
   "cell_type": "code",
   "execution_count": 24,
   "metadata": {},
   "outputs": [
    {
     "name": "stdout",
     "output_type": "stream",
     "text": [
      "720.0\n"
     ]
    }
   ],
   "source": [
    "total = int(input(\"請輸入購物車總額\"))\n",
    "\n",
    "if total >1000:\n",
    "    total *=0.8  \n",
    "    print(total) \n",
    "elif total >500 and total <=1000:\n",
    "    total *=0.9\n",
    "    print(total)\n",
    "else :\n",
    "    print(total)\n"
   ]
  },
  {
   "cell_type": "code",
   "execution_count": 27,
   "metadata": {},
   "outputs": [
    {
     "name": "stdout",
     "output_type": "stream",
     "text": [
      "油量不足，建議加油\n"
     ]
    }
   ],
   "source": [
    "fuel = int(input(\"請輸入剩餘油量\"))\n",
    "\n",
    "if fuel <5:\n",
    "    print(\"需要立即加油!\") \n",
    "elif fuel >=5 and fuel <=10:\n",
    "    print(\"油量不足，建議加油\")\n",
    "else :\n",
    "    print(\"油量充足\")"
   ]
  },
  {
   "cell_type": "code",
   "execution_count": 31,
   "metadata": {},
   "outputs": [
    {
     "name": "stdout",
     "output_type": "stream",
     "text": [
      "650\n"
     ]
    }
   ],
   "source": [
    "total = int(input(\"請輸入轉帳金額\"))\n",
    "\n",
    "if total >10000:\n",
    "    print(total) \n",
    "elif total >=5000 and total <=10000:\n",
    "    total -=50\n",
    "    print(total)\n",
    "elif total >=1000 and total <5000:\n",
    "    total -=100\n",
    "    print(total)\n",
    "else :\n",
    "    total-=150\n",
    "    print(total) "
   ]
  },
  {
   "cell_type": "code",
   "execution_count": null,
   "metadata": {},
   "outputs": [],
   "source": []
  }
 ],
 "metadata": {
  "kernelspec": {
   "display_name": "Python 3",
   "language": "python",
   "name": "python3"
  },
  "language_info": {
   "codemirror_mode": {
    "name": "ipython",
    "version": 3
   },
   "file_extension": ".py",
   "mimetype": "text/x-python",
   "name": "python",
   "nbconvert_exporter": "python",
   "pygments_lexer": "ipython3",
   "version": "3.7.1"
  }
 },
 "nbformat": 4,
 "nbformat_minor": 2
}
