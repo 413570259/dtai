{
 "cells": [
  {
   "cell_type": "code",
   "execution_count": 1,
   "metadata": {},
   "outputs": [
    {
     "name": "stdout",
     "output_type": "stream",
     "text": [
      "0813\n"
     ]
    }
   ],
   "source": [
    "print(\"0813\")"
   ]
  },
  {
   "cell_type": "code",
   "execution_count": null,
   "metadata": {},
   "outputs": [],
   "source": [
    "if( score >=60):\n",
    "    grade=\"及格\"\n",
    "    sum= sum + score"
   ]
  },
  {
   "cell_type": "code",
   "execution_count": 3,
   "metadata": {},
   "outputs": [
    {
     "name": "stdout",
     "output_type": "stream",
     "text": [
      "密碼正確\n"
     ]
    }
   ],
   "source": [
    "密碼 = int(input(\"請輸入密碼\"))\n",
    "if 密碼 == 1234:\n",
    "    print(\"密碼正確\")"
   ]
  },
  {
   "cell_type": "code",
   "execution_count": 10,
   "metadata": {},
   "outputs": [
    {
     "name": "stdout",
     "output_type": "stream",
     "text": [
      "出門記得帶傘\n"
     ]
    }
   ],
   "source": [
    "rain = str(input(\"今天會下雨嗎?\"))\n",
    "if(rain==\"Y\"or rain==\"y\"):\n",
    "    print(\"出門記得帶傘\")"
   ]
  },
  {
   "cell_type": "code",
   "execution_count": 7,
   "metadata": {},
   "outputs": [
    {
     "name": "stdout",
     "output_type": "stream",
     "text": [
      "密碼錯誤\n"
     ]
    }
   ],
   "source": [
    "密碼 = int(input(\"請輸入密碼\"))\n",
    "if 密碼 == 1234:\n",
    "    print(\"密碼正確\")\n",
    "else:\n",
    "    print (\"密碼錯誤\")"
   ]
  },
  {
   "cell_type": "code",
   "execution_count": 12,
   "metadata": {},
   "outputs": [
    {
     "name": "stdout",
     "output_type": "stream",
     "text": [
      "你輸入的數字是奇數\n"
     ]
    }
   ],
   "source": [
    "偶數判斷 = int(input(\"請輸入一個正整數\"))\n",
    "if 偶數判斷%2== 0:\n",
    "    print(\"你輸入的數字是偶數\")\n",
    "else:\n",
    "    print(\"你輸入的數字是奇數\")    "
   ]
  },
  {
   "cell_type": "code",
   "execution_count": 16,
   "metadata": {},
   "outputs": [
    {
     "name": "stdout",
     "output_type": "stream",
     "text": [
      "體溫過高!\n"
     ]
    }
   ],
   "source": [
    "體溫 = float(input(\"請輸入體溫\"))\n",
    "if 體溫>=37.5:\n",
    "    print(\"體溫過高!\")\n",
    "elif 體溫 >37.0 and 體溫 <=37.4:\n",
    "    print(\"體溫略高!\") \n",
    "elif 體溫 >34.0 and 體溫 <=36.9:\n",
    "    print(\"體溫正常!\")\n",
    "else:\n",
    "    print(\"體溫異常，請重新量測!\")           "
   ]
  },
  {
   "cell_type": "code",
   "execution_count": 19,
   "metadata": {},
   "outputs": [
    {
     "name": "stdout",
     "output_type": "stream",
     "text": [
      "A\n"
     ]
    }
   ],
   "source": [
    "成績 = int(input(\"請輸入成績\"))\n",
    "if 成績>=90:\n",
    "    print(\"A\")\n",
    "elif 成績 >80 and 成績 <=89:\n",
    "    print(\"B\") \n",
    "elif 成績 >70 and 成績 <=79:\n",
    "    print(\"C\")\n",
    "elif 成績 >60 and 成績 <=69:\n",
    "    print(\"D\")\n",
    "else:\n",
    "    print(\"E\")    "
   ]
  },
  {
   "cell_type": "code",
   "execution_count": 24,
   "metadata": {},
   "outputs": [
    {
     "name": "stdout",
     "output_type": "stream",
     "text": [
      "720.0\n"
     ]
    }
   ],
   "source": [
    "#題目1\n",
    "total = int(input(\"請輸入購物車總額\"))\n",
    "\n",
    "if total >1000:\n",
    "    total *=0.8  \n",
    "    print(total) \n",
    "elif total >500 and total <=1000:\n",
    "    total *=0.9\n",
    "    print(total)\n",
    "else :\n",
    "    print(total)\n"
   ]
  },
  {
   "cell_type": "code",
   "execution_count": 27,
   "metadata": {},
   "outputs": [
    {
     "name": "stdout",
     "output_type": "stream",
     "text": [
      "油量不足，建議加油\n"
     ]
    }
   ],
   "source": [
    "#題目2\n",
    "fuel = int(input(\"請輸入剩餘油量\"))\n",
    "\n",
    "if fuel <5:\n",
    "    print(\"需要立即加油!\") \n",
    "elif fuel >=5 and fuel <=10:\n",
    "    print(\"油量不足，建議加油\")\n",
    "else :\n",
    "    print(\"油量充足\")"
   ]
  },
  {
   "cell_type": "code",
   "execution_count": 31,
   "metadata": {},
   "outputs": [
    {
     "name": "stdout",
     "output_type": "stream",
     "text": [
      "650\n"
     ]
    }
   ],
   "source": [
    "#題目3\n",
    "total = int(input(\"請輸入轉帳金額\"))\n",
    "\n",
    "if total >10000:\n",
    "    print(total) \n",
    "elif total >=5000 and total <=10000:\n",
    "    total -=50\n",
    "    print(total)\n",
    "elif total >=1000 and total <5000:\n",
    "    total -=100\n",
    "    print(total)\n",
    "else :\n",
    "    total-=150\n",
    "    print(total) "
   ]
  },
  {
   "cell_type": "code",
   "execution_count": 33,
   "metadata": {},
   "outputs": [],
   "source": [
    "c = range(3,8,1)\n",
    "d = range(3,8,2) \n",
    "e = range(8,3,-1) \n"
   ]
  },
  {
   "cell_type": "code",
   "execution_count": 37,
   "metadata": {},
   "outputs": [
    {
     "name": "stdout",
     "output_type": "stream",
     "text": [
      "range(3, 8) range(3, 8, 2) range(8, 3, -1)\n"
     ]
    }
   ],
   "source": [
    "print(c,d,e)"
   ]
  },
  {
   "cell_type": "code",
   "execution_count": 38,
   "metadata": {},
   "outputs": [
    {
     "name": "stdout",
     "output_type": "stream",
     "text": [
      "[3, 4, 5, 6, 7]\n"
     ]
    }
   ],
   "source": [
    "print(list(c))"
   ]
  },
  {
   "cell_type": "code",
   "execution_count": 39,
   "metadata": {},
   "outputs": [
    {
     "name": "stdout",
     "output_type": "stream",
     "text": [
      "[3, 5, 7]\n"
     ]
    }
   ],
   "source": [
    "print(list(d))"
   ]
  },
  {
   "cell_type": "code",
   "execution_count": 40,
   "metadata": {},
   "outputs": [
    {
     "name": "stdout",
     "output_type": "stream",
     "text": [
      "[8, 7, 6, 5, 4]\n"
     ]
    }
   ],
   "source": [
    "print(list(e))"
   ]
  },
  {
   "cell_type": "code",
   "execution_count": 41,
   "metadata": {},
   "outputs": [],
   "source": [
    "c1 = list(c)"
   ]
  },
  {
   "cell_type": "code",
   "execution_count": 43,
   "metadata": {},
   "outputs": [
    {
     "name": "stdout",
     "output_type": "stream",
     "text": [
      "[3, 4, 5, 6, 7]\n"
     ]
    }
   ],
   "source": [
    "print(c1)"
   ]
  },
  {
   "cell_type": "code",
   "execution_count": 44,
   "metadata": {},
   "outputs": [
    {
     "name": "stdout",
     "output_type": "stream",
     "text": [
      "<class 'range'>\n"
     ]
    }
   ],
   "source": [
    "print(type(c))"
   ]
  },
  {
   "cell_type": "code",
   "execution_count": 45,
   "metadata": {},
   "outputs": [
    {
     "name": "stdout",
     "output_type": "stream",
     "text": [
      "<class 'list'>\n"
     ]
    }
   ],
   "source": [
    "print(type(c1))"
   ]
  },
  {
   "cell_type": "code",
   "execution_count": 47,
   "metadata": {},
   "outputs": [
    {
     "name": "stdout",
     "output_type": "stream",
     "text": [
      "0\n",
      "1\n",
      "2\n",
      "3\n",
      "4\n"
     ]
    }
   ],
   "source": [
    "for i in range(5):\n",
    "    print(i)"
   ]
  },
  {
   "cell_type": "code",
   "execution_count": 50,
   "metadata": {},
   "outputs": [],
   "source": [
    "f = range(0,9,1)\n",
    "g = range(1,10,1) \n",
    "h = range(1,11,2) \n",
    "j = range(10,0,-2)"
   ]
  },
  {
   "cell_type": "code",
   "execution_count": 51,
   "metadata": {},
   "outputs": [
    {
     "name": "stdout",
     "output_type": "stream",
     "text": [
      "[0, 1, 2, 3, 4, 5, 6, 7, 8]\n",
      "[1, 2, 3, 4, 5, 6, 7, 8, 9]\n",
      "[1, 3, 5, 7, 9]\n",
      "[10, 8, 6, 4, 2]\n"
     ]
    }
   ],
   "source": [
    "print(list(f))\n",
    "print(list(g))\n",
    "print(list(h))\n",
    "print(list(j))"
   ]
  },
  {
   "cell_type": "code",
   "execution_count": 52,
   "metadata": {},
   "outputs": [
    {
     "name": "stdout",
     "output_type": "stream",
     "text": [
      "0,1,2,"
     ]
    }
   ],
   "source": [
    "for n in range(3):\n",
    "    print(n,end=\",\")"
   ]
  },
  {
   "cell_type": "code",
   "execution_count": 54,
   "metadata": {},
   "outputs": [
    {
     "name": "stdout",
     "output_type": "stream",
     "text": [
      "1 2 3 4 5 6 "
     ]
    }
   ],
   "source": [
    "n = int(input(\"請輸入一個正整數\"))\n",
    "for n in range(1,n+1,1):\n",
    "    print(n,end=\" \")\n"
   ]
  },
  {
   "cell_type": "code",
   "execution_count": 56,
   "metadata": {},
   "outputs": [
    {
     "name": "stdout",
     "output_type": "stream",
     "text": [
      "3\n"
     ]
    }
   ],
   "source": [
    "sum = 0 \n",
    "for n in range(3):     \n",
    "    sum = sum+n \n",
    "print(sum) \n"
   ]
  },
  {
   "cell_type": "code",
   "execution_count": 60,
   "metadata": {},
   "outputs": [
    {
     "name": "stdout",
     "output_type": "stream",
     "text": [
      "1275\n"
     ]
    }
   ],
   "source": [
    "n = int(input(\"請輸入一個正整數\"))\n",
    "sum = 0 \n",
    "for n in range(1,n+1,1):     \n",
    "    sum = sum+n \n",
    "print(sum) \n"
   ]
  },
  {
   "cell_type": "code",
   "execution_count": 72,
   "metadata": {},
   "outputs": [
    {
     "name": "stdout",
     "output_type": "stream",
     "text": [
      "1到 1 的整數和為: 1\n",
      "1到 2 的整數和為: 3\n",
      "1到 3 的整數和為: 6\n",
      "1到 4 的整數和為: 10\n",
      "1到 5 的整數和為: 15\n",
      "1到 6 的整數和為: 21\n",
      "1到 7 的整數和為: 28\n",
      "1到 8 的整數和為: 36\n",
      "1到 9 的整數和為: 45\n",
      "1到 10 的整數和為: 55\n"
     ]
    }
   ],
   "source": [
    "n = int(input(\"請輸入一個正整數\"))\n",
    "sum = 0 \n",
    "for n in range(1,n+1,1):     \n",
    "    sum = sum+n\n",
    "    print(\"1到\",n,\"的整數和為:\", sum) "
   ]
  },
  {
   "cell_type": "code",
   "execution_count": 71,
   "metadata": {},
   "outputs": [
    {
     "name": "stdout",
     "output_type": "stream",
     "text": [
      "1到100的偶數和為: 2550\n"
     ]
    }
   ],
   "source": [
    "#計算偶數和\n",
    "sum = 0\n",
    "for n in range(2,102,2):     \n",
    "    sum = sum+n\n",
    "print(\"1到100的偶數和為:\", sum) "
   ]
  },
  {
   "cell_type": "code",
   "execution_count": 75,
   "metadata": {},
   "outputs": [
    {
     "name": "stdout",
     "output_type": "stream",
     "text": [
      "10\n",
      "9\n",
      "8\n",
      "7\n",
      "6\n",
      "5\n",
      "4\n",
      "3\n",
      "2\n",
      "1\n",
      "倒數結束\n"
     ]
    }
   ],
   "source": [
    "#倒數顯示\n",
    "for n in range(10,0,-1):     \n",
    "    print(n) \n",
    "print(\"倒數結束\")"
   ]
  },
  {
   "cell_type": "code",
   "execution_count": 79,
   "metadata": {},
   "outputs": [
    {
     "name": "stdout",
     "output_type": "stream",
     "text": [
      "1 的平方為: 1\n",
      "2 的平方為: 4\n",
      "3 的平方為: 9\n",
      "4 的平方為: 16\n",
      "5 的平方為: 25\n",
      "6 的平方為: 36\n",
      "7 的平方為: 49\n",
      "8 的平方為: 64\n",
      "9 的平方為: 81\n",
      "10 的平方為: 100\n"
     ]
    }
   ],
   "source": [
    "#生成平方數列\n",
    "sum = 0 \n",
    "for n in range(1,11,1):     \n",
    "    sum = n**2\n",
    "    print(n,\"的平方為:\", sum) "
   ]
  },
  {
   "cell_type": "code",
   "execution_count": 93,
   "metadata": {},
   "outputs": [
    {
     "name": "stdout",
     "output_type": "stream",
     "text": [
      "3,7,11,15,19,23,27,"
     ]
    }
   ],
   "source": [
    "#生成等差數列\n",
    "for n in range(3,30,4):\n",
    "    print(n,end=\",\") "
   ]
  },
  {
   "cell_type": "code",
   "execution_count": 95,
   "metadata": {},
   "outputs": [
    {
     "name": "stdout",
     "output_type": "stream",
     "text": [
      "26,27,28,29,30,31,32,33,34,35,36,37,38,39,40,41,42,43,44,45,46,47,48,49,50,"
     ]
    }
   ],
   "source": [
    "#找出大於某值的數字\n",
    "a = int(input())\n",
    "b = int(input())\n",
    "for n in range(a,b+1,1):\n",
    "    if n>25:\n",
    "        print(n,end=\",\")"
   ]
  },
  {
   "cell_type": "code",
   "execution_count": null,
   "metadata": {},
   "outputs": [],
   "source": []
  }
 ],
 "metadata": {
  "kernelspec": {
   "display_name": "Python 3",
   "language": "python",
   "name": "python3"
  },
  "language_info": {
   "codemirror_mode": {
    "name": "ipython",
    "version": 3
   },
   "file_extension": ".py",
   "mimetype": "text/x-python",
   "name": "python",
   "nbconvert_exporter": "python",
   "pygments_lexer": "ipython3",
   "version": "3.7.1"
  }
 },
 "nbformat": 4,
 "nbformat_minor": 2
}
